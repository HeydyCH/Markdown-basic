{
  "nbformat": 4,
  "nbformat_minor": 0,
  "metadata": {
    "colab": {
      "name": "credit_card_project_pyhton.ipynb",
      "provenance": [],
      "authorship_tag": "ABX9TyPBcj4q4IG07Xcv0sdm4CU9",
      "include_colab_link": true
    },
    "kernelspec": {
      "name": "python3",
      "display_name": "Python 3"
    }
  },
  "cells": [
    {
      "cell_type": "markdown",
      "metadata": {
        "id": "view-in-github",
        "colab_type": "text"
      },
      "source": [
        "<a href=\"https://colab.research.google.com/github/MayumyCH/Markdown-basic/blob/master/credit_card_project_pyhton.ipynb\" target=\"_parent\"><img src=\"https://colab.research.google.com/assets/colab-badge.svg\" alt=\"Open In Colab\"/></a>"
      ]
    },
    {
      "cell_type": "markdown",
      "metadata": {
        "id": "5YvecjXYs7C0"
      },
      "source": [
        "# credit_card_project_pyhton"
      ]
    }
  ]
}